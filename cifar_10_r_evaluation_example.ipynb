{
  "nbformat": 4,
  "nbformat_minor": 0,
  "metadata": {
    "colab": {
      "provenance": []
    },
    "kernelspec": {
      "name": "python3",
      "display_name": "Python 3"
    },
    "language_info": {
      "name": "python"
    }
  },
  "cells": [
    {
      "cell_type": "code",
      "execution_count": 3,
      "metadata": {
        "id": "HMkWzn0uhViO"
      },
      "outputs": [],
      "source": [
        "# load model auxiliary function\n",
        "from tensorflow.keras import layers\n",
        "from tensorflow.keras.utils import CustomObjectScope\n",
        "from keras import backend as K\n",
        "import tensorflow.keras as keras\n",
        "\n",
        "def load_model(architecture_file='', weights_file=''):\n",
        "    def _hard_swish(x):\n",
        "        return x * K.relu(x + 3.0, max_value=6.0) / 6.0\n",
        "\n",
        "    def _relu6(x):\n",
        "        return K.relu(x, max_value=6)\n",
        "\n",
        "    if '.json' not in architecture_file:\n",
        "        architecture_file = architecture_file+'.json'\n",
        "\n",
        "    with open(architecture_file, 'r') as f:\n",
        "        with CustomObjectScope({'relu6': _relu6,\n",
        "                                'DepthwiseConv2D': layers.DepthwiseConv2D,\n",
        "                                '_hard_swish': _hard_swish}):\n",
        "            model = keras.models.model_from_json(f.read())\n",
        "\n",
        "    if weights_file != '':\n",
        "        if '.h5' not in weights_file:\n",
        "            weights_file = weights_file + '.h5'\n",
        "        model.load_weights(weights_file)\n",
        "        print('Load architecture [{}]. Load weights [{}]'.format(architecture_file, weights_file), flush=True)\n",
        "    else:\n",
        "        print('Load architecture [{}]'.format(architecture_file), flush=True)\n",
        "\n",
        "    return model"
      ]
    },
    {
      "cell_type": "code",
      "source": [
        "from sklearn.metrics._classification import accuracy_score\n",
        "import keras\n",
        "import numpy as np\n",
        "import tensorflow as tf\n",
        "\n",
        "np.random.seed(12227)\n",
        "\n",
        "# loading the original cifar10 dataset to extract the mean from the original train set\n",
        "(x_train, _), (_, _) = keras.datasets.cifar10.load_data()\n",
        "x_train = x_train.astype('float32') / 255\n",
        "\n",
        "# extract mean from the original train set\n",
        "x_train_mean = np.mean(x_train, axis=0)"
      ],
      "metadata": {
        "id": "855RoAWnhWTb"
      },
      "execution_count": null,
      "outputs": []
    },
    {
      "cell_type": "code",
      "source": [
        "# loading the adversarial attack cifar10-r\n",
        "# make sure the cifar-10-r is in the same folder of this notebook, or change the path\n",
        "# of the np.load function\n",
        "load = np.load('cifar-10-r.npz')\n",
        "_, _, X_test, y_test = load['X_train'], load['y_train'], load['X_test'], load['y_test']"
      ],
      "metadata": {
        "id": "_Zqhr-KXhhDO"
      },
      "execution_count": 7,
      "outputs": []
    },
    {
      "cell_type": "code",
      "source": [
        "# applying the train set mean to the cifar10-r test set\n",
        "X_test = X_test.astype('float32') / 255\n",
        "X_test -= x_train_mean"
      ],
      "metadata": {
        "id": "DfidM29KhiA6"
      },
      "execution_count": 8,
      "outputs": []
    },
    {
      "cell_type": "code",
      "source": [
        "# load model and evaluate accuracy\n",
        "model = load_model('path_to_your_model.json',\n",
        "                   'path_to_your_model.h5')\n",
        "acc = accuracy_score(np.argmax(y_test, axis=1), np.argmax(model.predict(X_test, verbose=0), axis=1))\n",
        "\n",
        "print(round(acc, 6))"
      ],
      "metadata": {
        "id": "mxjONaazhjrx"
      },
      "execution_count": null,
      "outputs": []
    }
  ]
}